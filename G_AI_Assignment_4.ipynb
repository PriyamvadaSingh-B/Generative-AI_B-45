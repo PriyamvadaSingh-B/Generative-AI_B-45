{
  "cells": [
    {
      "cell_type": "markdown",
      "metadata": {
        "id": "view-in-github",
        "colab_type": "text"
      },
      "source": [
        "<a href=\"https://colab.research.google.com/github/PriyamvadaSingh-B/Generative-AI_B-45/blob/main/G_AI_Assignment_4.ipynb\" target=\"_parent\"><img src=\"https://colab.research.google.com/assets/colab-badge.svg\" alt=\"Open In Colab\"/></a>"
      ]
    },
    {
      "cell_type": "markdown",
      "metadata": {
        "id": "uG9tK4dn1kw8"
      },
      "source": [
        "question1"
      ]
    },
    {
      "cell_type": "code",
      "execution_count": null,
      "metadata": {
        "colab": {
          "background_save": true,
          "base_uri": "https://localhost:8080/"
        },
        "id": "jFYKiG571WsV",
        "outputId": "e670e9cb-a648-4072-e533-7ac2e86e21e2"
      },
      "outputs": [
        {
          "metadata": {
            "tags": null
          },
          "name": "stdout",
          "output_type": "stream",
          "text": [
            "Training MSE: 3.331496817946401e-06\n",
            "Testing MSE: 1.2800333782910836e-05\n"
          ]
        }
      ],
      "source": [
        "import numpy as np\n",
        "\n",
        "\n",
        "X_train = np.array([[0.1, 0.2, 0.3],\n",
        "                   [0.2, 0.3, 0.4],\n",
        "                   [0.3, 0.4, 0.5],\n",
        "                   [0.5, 0.6, 0.7],\n",
        "                   [0.1, 0.3, 0.5],\n",
        "                   [0.2, 0.4, 0.6],\n",
        "                   [0.3, 0.5, 0.7],\n",
        "                   [0.4, 0.6, 0.8],\n",
        "                   [0.5, 0.7, 0.1]])\n",
        "y_train = np.array([0.14, 0.20, 0.26, 0.38, 0.22, 0.28, 0.34, 0.40, 0.22])\n",
        "\n",
        "X_test = np.array([[0.6, 0.7, 0.8],\n",
        "                  [0.7, 0.8, 0.9]])\n",
        "y_test = np.array([0.44, 0.50])\n",
        "\n",
        "weights = np.random.rand(3)\n",
        "bias = np.random.rand()\n",
        "learning_rate = 0.01\n",
        "epochs = 10000\n",
        "\n",
        "for epoch in range(epochs):\n",
        "  for i in range(len(X_train)):\n",
        "\n",
        "    output = np.dot(X_train[i], weights) + bias\n",
        "\n",
        "\n",
        "    error = y_train[i] - output\n",
        "\n",
        "\n",
        "    weights = weights + learning_rate * error * X_train[i]\n",
        "    bias = bias + learning_rate * error\n",
        "\n",
        "\n",
        "def calculate_mse(X, y, weights, bias):\n",
        "  mse = 0\n",
        "  for i in range(len(X)):\n",
        "    output = np.dot(X[i], weights) + bias\n",
        "    mse += (y[i] - output) ** 2\n",
        "  return mse / len(X)\n",
        "\n",
        "train_mse = calculate_mse(X_train, y_train, weights, bias)\n",
        "test_mse = calculate_mse(X_test, y_test, weights, bias)\n",
        "\n",
        "print(f\"Training MSE: {train_mse}\")\n",
        "print(f\"Testing MSE: {test_mse}\")\n",
        "\n",
        "\n",
        "x1 = float(input(\"Enter x1: \"))\n",
        "x2 = float(input(\"Enter x2: \"))\n",
        "x3 = float(input(\"Enter x3: \"))\n",
        "user_input = np.array([x1, x2, x3])\n",
        "prediction = np.dot(user_input, weights) + bias\n",
        "print(f\"Predicted output: {prediction}\")"
      ]
    },
    {
      "cell_type": "markdown",
      "metadata": {
        "id": "FmX_bEXs1oQm"
      },
      "source": [
        "question2"
      ]
    },
    {
      "cell_type": "code",
      "execution_count": null,
      "metadata": {
        "colab": {
          "base_uri": "https://localhost:8080/"
        },
        "id": "J7aJ0WfC1iAS",
        "outputId": "af461a41-a666-4874-c79b-91368b8f44c4"
      },
      "outputs": [
        {
          "name": "stdout",
          "output_type": "stream",
          "text": [
            "Training MSE: 8.735804806524377e-06\n",
            "Testing MSE: 3.1302452865983937e-05\n",
            "Enter x1: 0.6\n",
            "Enter x2: 0.7\n",
            "Enter x3: 0.8\n",
            "Predicted output: 0.613589776191518\n"
          ]
        }
      ],
      "source": [
        "import numpy as np\n",
        "\n",
        "X_train = np.array([[0.1, 0.2, 0.3],\n",
        "                   [0.2, 0.3, 0.4],\n",
        "                   [0.3, 0.4, 0.5],\n",
        "                   [0.5, 0.6, 0.7],\n",
        "                   [0.1, 0.3, 0.5],\n",
        "                   [0.2, 0.4, 0.6],\n",
        "                   [0.3, 0.5, 0.7],\n",
        "                   [0.4, 0.6, 0.8],\n",
        "                   [0.5, 0.7, 0.1]])\n",
        "y_train = np.array([0.5349, 0.5498, 0.5646, 0.5939, 0.5548, 0.5695, 0.5842, 0.5987, 0.5548])\n",
        "\n",
        "\n",
        "X_test = np.array([[0.6, 0.7, 0.8],\n",
        "                  [0.7, 0.8, 0.9]])\n",
        "y_test = np.array([0.6083, 0.6225])\n",
        "\n",
        "weights = np.random.rand(3)\n",
        "bias = np.random.rand()\n",
        "\n",
        "learning_rate = 0.1\n",
        "epochs = 10000\n",
        "\n",
        "def sigmoid(x):\n",
        "    return 1 / (1 + np.exp(-x))\n",
        "\n",
        "def sigmoid_derivative(x):\n",
        "    return x * (1 - x)\n",
        "\n",
        "\n",
        "for epoch in range(epochs):\n",
        "    for i in range(len(X_train)):\n",
        "\n",
        "        input_signal = np.dot(X_train[i], weights) + bias\n",
        "        output = sigmoid(input_signal)\n",
        "\n",
        "\n",
        "        error = y_train[i] - output\n",
        "\n",
        "\n",
        "        delta = error * sigmoid_derivative(output)\n",
        "        weights = weights + learning_rate * delta * X_train[i]\n",
        "        bias = bias + learning_rate * delta\n",
        "\n",
        "def calculate_mse(X, y, weights, bias):\n",
        "  mse = 0\n",
        "  for i in range(len(X)):\n",
        "    output = sigmoid(np.dot(X[i], weights) + bias)\n",
        "    mse += (y[i] - output) ** 2\n",
        "  return mse / len(X)\n",
        "\n",
        "train_mse = calculate_mse(X_train, y_train, weights, bias)\n",
        "test_mse = calculate_mse(X_test, y_test, weights, bias)\n",
        "\n",
        "print(f\"Training MSE: {train_mse}\")\n",
        "print(f\"Testing MSE: {test_mse}\")\n",
        "\n",
        "\n",
        "x1 = float(input(\"Enter x1: \"))\n",
        "x2 = float(input(\"Enter x2: \"))\n",
        "x3 = float(input(\"Enter x3: \"))\n",
        "user_input = np.array([x1, x2, x3])\n",
        "prediction = sigmoid(np.dot(user_input, weights) + bias)\n",
        "print(f\"Predicted output: {prediction}\")"
      ]
    }
  ],
  "metadata": {
    "colab": {
      "provenance": [],
      "include_colab_link": true
    },
    "kernelspec": {
      "display_name": "Python 3",
      "name": "python3"
    },
    "language_info": {
      "name": "python"
    }
  },
  "nbformat": 4,
  "nbformat_minor": 0
}