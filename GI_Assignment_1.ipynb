{
  "nbformat": 4,
  "nbformat_minor": 0,
  "metadata": {
    "colab": {
      "provenance": [],
      "authorship_tag": "ABX9TyPYIPfJZqYJ7T0QF4epeI5+",
      "include_colab_link": true
    },
    "kernelspec": {
      "name": "python3",
      "display_name": "Python 3"
    },
    "language_info": {
      "name": "python"
    }
  },
  "cells": [
    {
      "cell_type": "markdown",
      "metadata": {
        "id": "view-in-github",
        "colab_type": "text"
      },
      "source": [
        "<a href=\"https://colab.research.google.com/github/PriyamvadaSingh-B/Generative-AI_B-45/blob/main/GI_Assignment_1.ipynb\" target=\"_parent\"><img src=\"https://colab.research.google.com/assets/colab-badge.svg\" alt=\"Open In Colab\"/></a>"
      ]
    },
    {
      "cell_type": "code",
      "source": [
        "import numpy as np\n",
        "from sklearn.metrics import mean_absolute_error, mean_squared_error, r2_score"
      ],
      "metadata": {
        "id": "cmkgJ6K34vtb"
      },
      "execution_count": 5,
      "outputs": []
    },
    {
      "cell_type": "code",
      "source": [
        "Y_actual = np.array([20, 30, 40, 50, 60])\n",
        "Y_pred = np.array([20.5, 30.3, 40.2, 50.6, 60.7])"
      ],
      "metadata": {
        "id": "l0414Ao940of"
      },
      "execution_count": 6,
      "outputs": []
    },
    {
      "cell_type": "code",
      "source": [
        "def mean_absolute_error_custom(y_actual, y_pred):\n",
        "      return np.mean(np.abs(y_actual - y_pred))"
      ],
      "metadata": {
        "id": "E1ElezVw43lh"
      },
      "execution_count": 7,
      "outputs": []
    },
    {
      "cell_type": "code",
      "source": [
        "def mean_squared_error_custom(y_actual, y_pred):\n",
        "      return np.mean((y_actual - y_pred) ** 2)"
      ],
      "metadata": {
        "id": "BKEXCPQ-46y1"
      },
      "execution_count": 8,
      "outputs": []
    },
    {
      "cell_type": "code",
      "source": [
        "def r2_score_custom(y_actual, y_pred):\n",
        "      ss_total = np.sum((y_actual - np.mean(y_actual)) ** 2)\n",
        "      ss_residual = np.sum((y_actual - y_pred) ** 2)\n",
        "      return 1 - (ss_residual / ss_total)"
      ],
      "metadata": {
        "id": "RvsR-iBu4-Pt"
      },
      "execution_count": 11,
      "outputs": []
    },
    {
      "cell_type": "code",
      "source": [
        "mae_custom = mean_absolute_error_custom(Y_actual, Y_pred)\n",
        "mse_custom = mean_squared_error_custom(Y_actual, Y_pred)\n",
        "r2_custom = r2_score_custom(Y_actual, Y_pred)"
      ],
      "metadata": {
        "id": "bQsx3STJ4-Is"
      },
      "execution_count": 12,
      "outputs": []
    },
    {
      "cell_type": "code",
      "source": [
        "print(f\"Custom Mean Absolute Error (MAE): {mae_custom}\")\n",
        "print(f\"Custom Mean Squared Error (MSE): {mse_custom}\")\n",
        "print(f\"Custom R² Score: {r2_custom}\")"
      ],
      "metadata": {
        "colab": {
          "base_uri": "https://localhost:8080/"
        },
        "id": "MUdSFJFh5JUO",
        "outputId": "b37a2633-c351-424b-8ca0-e41a7c91541b"
      },
      "execution_count": 13,
      "outputs": [
        {
          "output_type": "stream",
          "name": "stdout",
          "text": [
            "Custom Mean Absolute Error (MAE): 0.4600000000000016\n",
            "Custom Mean Squared Error (MSE): 0.24600000000000147\n",
            "Custom R² Score: 0.99877\n"
          ]
        }
      ]
    },
    {
      "cell_type": "code",
      "source": [
        "mae_library = mean_absolute_error(Y_actual, Y_pred)\n",
        "mse_library = mean_squared_error(Y_actual, Y_pred)\n",
        "r2_library = r2_score(Y_actual, Y_pred)"
      ],
      "metadata": {
        "id": "YdS1ip0j5LAD"
      },
      "execution_count": 14,
      "outputs": []
    },
    {
      "cell_type": "code",
      "source": [
        "print(\"\\nLibrary results using scikit-learn:\")\n",
        "print(f\"Mean Absolute Error (MAE): {mae_library}\")\n",
        "print(f\"Mean Squared Error (MSE): {mse_library}\")\n",
        "print(f\"R² Score: {r2_library}\")"
      ],
      "metadata": {
        "colab": {
          "base_uri": "https://localhost:8080/"
        },
        "id": "hCOjrHkw5NlT",
        "outputId": "17e3ec8c-2af0-4c2d-863d-39be1bf1becf"
      },
      "execution_count": 15,
      "outputs": [
        {
          "output_type": "stream",
          "name": "stdout",
          "text": [
            "\n",
            "Library results using scikit-learn:\n",
            "Mean Absolute Error (MAE): 0.4600000000000016\n",
            "Mean Squared Error (MSE): 0.24600000000000147\n",
            "R² Score: 0.99877\n"
          ]
        }
      ]
    }
  ]
}